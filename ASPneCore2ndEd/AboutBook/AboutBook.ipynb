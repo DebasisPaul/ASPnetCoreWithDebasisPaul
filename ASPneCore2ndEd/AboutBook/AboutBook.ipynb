{
 "cells": [
  {
   "cell_type": "markdown",
   "metadata": {},
   "source": [
    "- ASP.Net Core in Action Second Ed. By Andrew Lock\n",
    "- Manning Publications Shelter Island 2021\n",
    "- [Publisher Website Live Book Link](https://www.manning.com/books/asp-net-core-in-action-second-edition)"
   ]
  }
 ],
 "metadata": {
  "language_info": {
   "name": "plaintext"
  },
  "orig_nbformat": 4
 },
 "nbformat": 4,
 "nbformat_minor": 2
}
