{
 "cells": [
  {
   "cell_type": "markdown",
   "metadata": {},
   "source": [
    "# Part 1\n",
    "\n",
    "Getting Started With ASP.NET Core\n",
    "---\n",
    "1. Getting started with ASP.NET Core\n",
    "2. Your first application\n",
    "3. Handling request with the middleware pipeline\n",
    "4. Creating a website with Razor Pages\n",
    "5. Mapping URLs to razor pages using routing\n",
    "6. The Binding model: Retriving and validating user input\n",
    "7. Rendering HTML using Razor views\n",
    "8. Building forms with tag helpers\n",
    "9. creating a web api for mobile & client applications using MVC\n",
    "\n",
    "# Part 2\n",
    "\n",
    "Building Complete Applications\n",
    "---\n",
    "10. Service Configurations with dependency injectioin\n",
    "11. Configure an ASP.NET Core application\n",
    "12. Saving data with Entity framework Core\n",
    "13. The MVC & Razor Pages filter pipeline\n",
    "14. Authentication: Adding users to your application with identity\n",
    "15. 1authorization: Securing your Application\n",
    "16. Publishing and deploying your application\n",
    "\n",
    "# Part 3\n",
    "\n",
    "Extending Your Applications\n",
    "---\n",
    "17. Monitoring & Troubleshooting errors with logging\n",
    "18. Improving your application's security\n",
    "19. Building Custom components\n",
    "20. Building Custom MVC & Razor Pages Components\n",
    "21. Calling remote APIs with IHttpClientFactory\n",
    "22. Building background tasks and services\n",
    "23. Testing your applications"
   ]
  }
 ],
 "metadata": {
  "language_info": {
   "name": "plaintext"
  },
  "orig_nbformat": 4
 },
 "nbformat": 4,
 "nbformat_minor": 2
}
