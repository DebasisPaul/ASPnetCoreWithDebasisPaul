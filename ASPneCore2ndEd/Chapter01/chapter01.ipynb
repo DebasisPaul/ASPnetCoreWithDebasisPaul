{
 "cells": [
  {
   "cell_type": "markdown",
   "metadata": {},
   "source": [
    "### Chapter 1. Getting Started with asp.net core #\n",
    "\n",
    "- `What is asp.net core?`\n",
    "- `How asp.net core works`\n",
    "- `Choosing between .net core and .net framework`\n",
    "- `Preparing your development environment`\n",
    "- `1.1 An introduction to asp.net core`\n",
    "- `1.1.1. Using a web framework`\n",
    "- `1.1.2. The benefits and limitations of asp.net`\n",
    "- `1.2.1. What type of application can you build`\n",
    "- `1.2.2. if you're new to .net development`\n",
    "- `Built with containers in mind`\n",
    "- `if you're a .net framework developer creating a new applications`\n",
    "- `Web servers: naming things is hard`\n",
    "- `1.2.4. Converting an existing asp.net application to asp.net core`\n",
    "- `1.3 How does asp.net core work?`\n",
    "- `1.3.1 How does an http web request work?`\n",
    "- `A brief primer on http`\n",
    "- `A Quick introduction to http`\n",
    "- `1.3.2 How does asp.net core process a request?`\n",
    "- `asp.net core and reverse proxies`\n",
    "- `What you will learn in this book`\n",
    "\n",
    "\n",
    "\n"
   ]
  }
 ],
 "metadata": {
  "language_info": {
   "name": "plaintext"
  },
  "orig_nbformat": 4
 },
 "nbformat": 4,
 "nbformat_minor": 2
}
