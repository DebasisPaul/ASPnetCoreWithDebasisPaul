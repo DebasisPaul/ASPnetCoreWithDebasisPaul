{
 "cells": [
  {
   "cell_type": "code",
   "execution_count": null,
   "metadata": {},
   "outputs": [],
   "source": [
    "PART 1 GETTING STARTED WITH ASP.NET CORE"
   ]
  },
  {
   "cell_type": "markdown",
   "metadata": {},
   "source": [
    "### This chapter covers #\n",
    "\n",
    "- `What is ASP.NET Core`\n",
    "- `Things you can build with ASP.NET Core`\n",
    "- `The advantages & limitations of .NET Core`\n",
    "- `how ASP.NET Core Works`"
   ]
  },
  {
   "cell_type": "markdown",
   "metadata": {},
   "source": [
    "### 1.1 An Introduction to ASP.NET Core #\n",
    "\n",
    "![Figure 1.1](https://drek4537l1klr.cloudfront.net/lock2/Figures/1-1.png)"
   ]
  }
 ],
 "metadata": {
  "language_info": {
   "name": "plaintext"
  },
  "orig_nbformat": 4
 },
 "nbformat": 4,
 "nbformat_minor": 2
}
