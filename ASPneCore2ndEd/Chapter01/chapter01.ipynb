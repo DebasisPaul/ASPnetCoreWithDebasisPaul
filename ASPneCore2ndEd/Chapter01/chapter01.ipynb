{
 "cells": [
  {
   "cell_type": "code",
   "execution_count": null,
   "metadata": {},
   "outputs": [],
   "source": [
    "PART 1 GETTING STARTED WITH ASP.NET CORE\n",
    "Google doc https://docs.google.com/document/d/10Hh_VKr7r3M9VW838ATaGFVcmhbucPCD7yzHeDGPk1g/edit?usp=sharing"
   ]
  },
  {
   "cell_type": "markdown",
   "metadata": {},
   "source": [
    "### This chapter covers #\n",
    "\n",
    "- `What is ASP.NET Core`\n",
    "- `Things you can build with ASP.NET Core`\n",
    "- `The advantages & limitations of .NET Core`\n",
    "- `how ASP.NET Core Works`"
   ]
  },
  {
   "cell_type": "markdown",
   "metadata": {},
   "source": [
    "### 1.1 An Introduction to ASP.NET Core #\n",
    "ASP.NET Core is a cross-platform, open source, web application framework that you can use to quickly build dynamic, server-side rendered applications. You can also use ASP.NET Core to create HTTP APIs that can be consumed by mobile applications, by browser-based single-page applications such as Angular and React, or by other backend applications.\n",
    "\n",
    "ASP.NET Core provides structure, helper functions, and a framework for building applications, which saves you having to write a lot of this code yourself. The ASP.NET Core framework code then calls into your “handlers” which, in turn, call methods in your application’s business logic, as shown in figure 1.1. This business logic is the core of your application. You can interact with other services here, such as databases or remote APIs, but your business logic does not typically depend directly on ASP.NET Core.\n",
    "\n",
    "# In this section I cover\n",
    "\n",
    "- The reasons for using a web framework\n",
    "- The previous ASP.NET framework’s benefits and limitations\n",
    "- What ASP.NET Core is and its motivations\n",
    "- At the end of this section you should have a good sense of why ASP.NET Core was created, its design goals, and why you might want to use it.\n",
    "\n",
    "![Figure 1.1](https://drek4537l1klr.cloudfront.net/lock2/Figures/1-1.png)\n",
    "\n",
    "# 1.1.1 Using a web framework\n",
    "If you’re new to web development, it can be daunting moving into an area with so many buzzwords and a plethora of ever-changing products. You may be wondering if they’re all necessary—how hard can it be to return a file from a server?\n",
    "\n",
    "Well, it’s perfectly possible to build a static web application without the use of a web framework, but its capabilities will be limited. As soon as you want to provide any kind of security or dynamism, you’ll likely run into difficulties, and the original simplicity that enticed you will fade before your eyes.\n",
    "\n",
    "Just as desktop or mobile development frameworks can help you build native applications, ASP.NET Core makes writing web applications faster, easier, and more secure than trying to build everything from scratch. It contains libraries for common things like\n",
    "\n",
    "- reating dynamically changing web pages\n",
    "- Letting users log in to your web app\n",
    "- Letting users use their Facebook account to log in to your web app using OAuth\n",
    "- Providing a common structure for building maintainable applications\n",
    "- Reading configuration files\n",
    "- Serving image files\n",
    "- Logging requests made to your web app\n",
    "\n",
    "The key to any modern web application is the ability to generate dynamic web pages. A dynamic web page may display different data depending on the current logged-in user, or it could display content submitted by users. Without a dynamic framework, it wouldn’t be possible to log in to websites or to display any sort of personalized data on a page. In short, websites like Amazon, eBay, and Stack Overflow (seen in figure 1.2) wouldn’t be possible.\n",
    "\n",
    "\n",
    "![Figure 1.2](https://drek4537l1klr.cloudfront.net/lock2/Figures/1-2.png)"
   ]
  },
  {
   "cell_type": "markdown",
   "metadata": {},
   "source": [
    "### THE BENEFITS AND LIMITATIONS OF ASP.NET #"
   ]
  },
  {
   "cell_type": "markdown",
   "metadata": {},
   "source": [
    "# 1.1.2 What is ASP.NET Core?\n",
    "\n",
    "The development of ASP.NET Core was motivated by the desire to create a web framework with four main goals:\n",
    "- To be run and developed cross-platform\n",
    "- To have a modular architecture for easier maintenance\n",
    "- To be developed completely as open source software\n",
    "- To be applicable to current trends in web development, such as client-side applications and deployment to cloud environments\n",
    "\n",
    "To achieve all these goals, Microsoft needed a platform that could provide underlying libraries for creating basic objects such as lists and dictionaries, and for performing, for example, simple file operations. Up to this point, ASP.NET development had always been focused, and dependent, on the Windows-only .NET Framework. For ASP.NET Core, Microsoft created a lightweight platform that runs on Windows, Linux, and macOS called .NET Core (and subsequently .NET 5.0), as shown in figure 1.3.\n"
   ]
  },
  {
   "cell_type": "markdown",
   "metadata": {},
   "source": [
    "![Figure 1.3 The relationship between ASP.NET Core, ASP.NET, .NET Core/.NET 5.0, and .NET Framework. ASP.NET Core runs on .NET Core and .NET 5.0, so it can run cross-platform. Conversely, ASP.NET runs on .NET Framework only, so it is tied to the Windows OS.](https://drek4537l1klr.cloudfront.net/lock2/Figures/1-3.png)\n",
    "\n",
    "Figure 1.3 The relationship between ASP.NET Core, ASP.NET, .NET Core/.NET 5.0, and .NET Framework. ASP.NET Core runs on .NET Core and .NET 5.0, so it can run cross-platform. Conversely, ASP.NET runs on .NET Framework only, so it is tied to the Windows OS."
   ]
  }
 ],
 "metadata": {
  "language_info": {
   "name": "plaintext"
  },
  "orig_nbformat": 4
 },
 "nbformat": 4,
 "nbformat_minor": 2
}
