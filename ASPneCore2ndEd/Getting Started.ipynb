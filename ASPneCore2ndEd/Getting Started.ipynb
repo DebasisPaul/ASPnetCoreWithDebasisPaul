{
 "cells": [
  {
   "cell_type": "markdown",
   "metadata": {},
   "source": [
    "# CHAPTER01 Getting Started With ASP.NET Core \n",
    "\n",
    "This Chapter Covers\n",
    "---\n",
    "- `What is asp.net core`\n",
    "- `Things you can build with ASP.NET Core`\n",
    "- `The adventages and limitations of .Net Core`\n",
    "- `How ASP.NET Core Works `"
   ]
  },
  {
   "cell_type": "markdown",
   "metadata": {},
   "source": [
    "# 1.1 An Introduction To ASP.NET CORE\n",
    "\n",
    "`1.1.1 Using A Web Framework`\n",
    "- `The Benefits and limitations of ASP.NET`\n",
    "\n",
    "`1.1.2 What is ASP.NET Core?`\n",
    "- `When to Choose ASP.NET Core`\n",
    "- `What type of applications can you build?`\n",
    "\n",
    "- `If you're new to .Net Development`\n",
    "- `Built wioth container in mind`\n",
    "\n",
    "`1.2.3 If you're a .Net framework developer creating a new application`\n",
    "- `Web Servers: naming things is hard`"
   ]
  }
 ],
 "metadata": {
  "language_info": {
   "name": "plaintext"
  },
  "orig_nbformat": 4
 },
 "nbformat": 4,
 "nbformat_minor": 2
}
